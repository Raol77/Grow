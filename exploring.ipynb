{
 "cells": [
  {
   "cell_type": "markdown",
   "id": "f670f8ac",
   "metadata": {},
   "source": [
    "# Exploring Jupyter Notebook\n",
    "\n",
    "### Simple Python Statements and Programs in Notebook\n",
    "\n",
    "These are the most basic Python commands to help beginners get started with coding in a Jupyter Notebook."
   ]
  },
  {
   "cell_type": "code",
   "execution_count": 2,
   "id": "59cec87b",
   "metadata": {},
   "outputs": [
    {
     "name": "stdout",
     "output_type": "stream",
     "text": [
      "hello world\n"
     ]
    }
   ],
   "source": [
    "# Printing a greeting message\n",
    "\n",
    "print('hello world')"
   ]
  },
  {
   "cell_type": "code",
   "execution_count": 3,
   "id": "6a6f173f",
   "metadata": {},
   "outputs": [
    {
     "name": "stdout",
     "output_type": "stream",
     "text": [
      "30\n"
     ]
    }
   ],
   "source": [
    "# Assigning and adding two numbers\n",
    "\n",
    "a = 10\n",
    "b = 20\n",
    "\n",
    "print(a+b)"
   ]
  },
  {
   "cell_type": "code",
   "execution_count": 5,
   "id": "edd80a69",
   "metadata": {},
   "outputs": [
    {
     "name": "stdout",
     "output_type": "stream",
     "text": [
      "5 is odd\n"
     ]
    }
   ],
   "source": [
    "# To check whether the given number is odd or even\n",
    "\n",
    "a = int(input(\"Enter the value of a number\"))\n",
    "\n",
    "if(a%2==0):\n",
    "    print(f\"{a} is even\")\n",
    "else:\n",
    "     print(f\"{a} is odd\")"
   ]
  },
  {
   "cell_type": "code",
   "execution_count": 12,
   "id": "344043a8",
   "metadata": {},
   "outputs": [
    {
     "name": "stdout",
     "output_type": "stream",
     "text": [
      "5 * 1 = 5\n",
      "5 * 2 = 10\n",
      "5 * 3 = 15\n",
      "5 * 4 = 20\n",
      "5 * 5 = 25\n",
      "5 * 6 = 30\n",
      "5 * 7 = 35\n",
      "5 * 8 = 40\n",
      "5 * 9 = 45\n",
      "5 * 10 = 50\n"
     ]
    }
   ],
   "source": [
    "# To perform multiplication of a given assigned number\n",
    "\n",
    "num = int(input(\"Enter number that you want to generate multiplication table of\"))\n",
    "\n",
    "for i in range(1,11):\n",
    "    print(f\"{num} * {i} = {num * i}\")\n",
    "    \n",
    "\n"
   ]
  },
  {
   "cell_type": "code",
   "execution_count": 10,
   "id": "acc4fb0d",
   "metadata": {},
   "outputs": [
    {
     "name": "stdout",
     "output_type": "stream",
     "text": [
      "You are not eligible to vote\n"
     ]
    }
   ],
   "source": [
    "# To check whether someone is eligible to vote or not\n",
    "\n",
    "age = int(input(\"Enter person's age:\"))\n",
    "if (age > 18):\n",
    "    print(\"You are eligible to vote\")\n",
    "else:\n",
    "    print(\"You are not eligible to vote\")"
   ]
  },
  {
   "cell_type": "code",
   "execution_count": 8,
   "id": "1f0a1422",
   "metadata": {},
   "outputs": [
    {
     "data": {
      "text/plain": [
       "'Hello shyam'"
      ]
     },
     "execution_count": 8,
     "metadata": {},
     "output_type": "execute_result"
    }
   ],
   "source": [
    "# Printing greeting message to specified user\n",
    "\n",
    "def greet(name):\n",
    "    return \"Hello \"+ name\n",
    "    \n",
    "    \n",
    "name = input(\"Enter your name\")\n",
    "greet(name)"
   ]
  },
  {
   "cell_type": "code",
   "execution_count": 14,
   "id": "df8b6f05",
   "metadata": {},
   "outputs": [
    {
     "name": "stdout",
     "output_type": "stream",
     "text": [
      "25 is not a prime number.\n"
     ]
    }
   ],
   "source": [
    "# To Check whether the given number is prime or not \n",
    "\n",
    "num = int(input(\"Enter a number: \"))\n",
    "\n",
    "\n",
    "if num > 1:\n",
    "   \n",
    "    for i in range(2, num):\n",
    "        if num % i == 0:\n",
    "            print(num, \"is not a prime number.\")\n",
    "            break\n",
    "    else:\n",
    "        print(num, \"is a prime number.\")\n",
    "else:\n",
    "    print(num, \"is not a prime number.\")"
   ]
  },
  {
   "cell_type": "code",
   "execution_count": 17,
   "id": "a8a45bc0",
   "metadata": {},
   "outputs": [
    {
     "name": "stdout",
     "output_type": "stream",
     "text": [
      "Fibonacci sequence up to 10 terms:\n",
      "0\n",
      "1\n",
      "1\n",
      "2\n",
      "3\n",
      "5\n",
      "8\n",
      "13\n",
      "21\n",
      "34\n"
     ]
    }
   ],
   "source": [
    "# To print a fibonnaci series \n",
    "\n",
    "n = int(input(\"Enter the number of terms: \"))\n",
    "a = 0\n",
    "b = 1\n",
    "count = 0\n",
    "if n <= 0:\n",
    "    print(\"Please enter a positive integer.\")\n",
    "elif n == 1:\n",
    "    print(\"Fibonacci sequence up to\", n, \"term:\")\n",
    "    print(a)\n",
    "else:\n",
    "    print(\"Fibonacci sequence up to\", n, \"terms:\")\n",
    "    while count < n:\n",
    "        print(a)\n",
    "        next_term = a + b\n",
    "        a = b\n",
    "        b = next_term\n",
    "        count += 1\n"
   ]
  },
  {
   "cell_type": "code",
   "execution_count": null,
   "id": "e7a8d9f3",
   "metadata": {},
   "outputs": [],
   "source": []
  }
 ],
 "metadata": {
  "kernelspec": {
   "display_name": "base",
   "language": "python",
   "name": "python3"
  },
  "language_info": {
   "codemirror_mode": {
    "name": "ipython",
    "version": 3
   },
   "file_extension": ".py",
   "mimetype": "text/x-python",
   "name": "python",
   "nbconvert_exporter": "python",
   "pygments_lexer": "ipython3",
   "version": "3.12.7"
  }
 },
 "nbformat": 4,
 "nbformat_minor": 5
}
